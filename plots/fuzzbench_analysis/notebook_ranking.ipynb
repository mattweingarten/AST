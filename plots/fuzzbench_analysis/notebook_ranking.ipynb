{
 "cells": [
  {
   "cell_type": "code",
   "execution_count": 1,
   "metadata": {
    "colab": {},
    "colab_type": "code",
    "id": "XU_tfiktT9Ms"
   },
   "outputs": [],
   "source": [
    "import numpy as np\n",
    "import pandas as pd\n",
    "import matplotlib.pyplot as plt\n",
    "import seaborn as sns\n",
    "sns.set(color_codes=True)"
   ]
  },
  {
   "cell_type": "code",
   "execution_count": 2,
   "metadata": {
    "colab": {},
    "colab_type": "code",
    "id": "J2XHseWNUAWm"
   },
   "outputs": [
    {
     "name": "stdout",
     "output_type": "stream",
     "text": [
      "Requirement already satisfied: scikit_posthocs in /home/b/bdata/beandata/eth/projects_eth/eth-sm04-ast/repo/venv/lib/python3.8/site-packages (0.6.2)\n",
      "Requirement already satisfied: orange3 in /home/b/bdata/beandata/eth/projects_eth/eth-sm04-ast/repo/venv/lib/python3.8/site-packages (3.28.0)\n",
      "Requirement already satisfied: matplotlib in /home/b/bdata/beandata/eth/projects_eth/eth-sm04-ast/repo/venv/lib/python3.8/site-packages (from scikit_posthocs) (3.5.1)\n",
      "Requirement already satisfied: statsmodels in /home/b/bdata/beandata/eth/projects_eth/eth-sm04-ast/repo/venv/lib/python3.8/site-packages (from scikit_posthocs) (0.13.2)\n",
      "Requirement already satisfied: pandas>=0.20.0 in /home/b/bdata/beandata/eth/projects_eth/eth-sm04-ast/repo/venv/lib/python3.8/site-packages (from scikit_posthocs) (1.2.4)\n",
      "Requirement already satisfied: seaborn in /home/b/bdata/beandata/eth/projects_eth/eth-sm04-ast/repo/venv/lib/python3.8/site-packages (from scikit_posthocs) (0.11.1)\n",
      "Requirement already satisfied: numpy in /home/b/bdata/beandata/eth/projects_eth/eth-sm04-ast/repo/venv/lib/python3.8/site-packages (from scikit_posthocs) (1.21.0)\n",
      "Requirement already satisfied: scipy in /home/b/bdata/beandata/eth/projects_eth/eth-sm04-ast/repo/venv/lib/python3.8/site-packages (from scikit_posthocs) (1.6.2)\n",
      "Requirement already satisfied: AnyQt>=0.0.11 in /home/b/bdata/beandata/eth/projects_eth/eth-sm04-ast/repo/venv/lib/python3.8/site-packages (from orange3) (0.1.0)\n",
      "Requirement already satisfied: pyqtgraph>=0.11.0 in /home/b/bdata/beandata/eth/projects_eth/eth-sm04-ast/repo/venv/lib/python3.8/site-packages (from orange3) (0.12.4)\n",
      "Requirement already satisfied: keyring in /home/b/bdata/beandata/eth/projects_eth/eth-sm04-ast/repo/venv/lib/python3.8/site-packages (from orange3) (23.5.0)\n",
      "Requirement already satisfied: pyyaml in /home/b/bdata/beandata/eth/projects_eth/eth-sm04-ast/repo/venv/lib/python3.8/site-packages (from orange3) (5.4)\n",
      "Requirement already satisfied: orange-widget-base>=4.12.0 in /home/b/bdata/beandata/eth/projects_eth/eth-sm04-ast/repo/venv/lib/python3.8/site-packages (from orange3) (4.16.1)\n",
      "Requirement already satisfied: bottleneck>=1.0.0 in /home/b/bdata/beandata/eth/projects_eth/eth-sm04-ast/repo/venv/lib/python3.8/site-packages (from orange3) (1.3.4)\n",
      "Requirement already satisfied: openpyxl in /home/b/bdata/beandata/eth/projects_eth/eth-sm04-ast/repo/venv/lib/python3.8/site-packages (from orange3) (3.0.9)\n",
      "Requirement already satisfied: setuptools>=36.3 in /home/b/bdata/beandata/eth/projects_eth/eth-sm04-ast/repo/venv/lib/python3.8/site-packages (from orange3) (62.1.0)\n",
      "Requirement already satisfied: orange-canvas-core<0.2a,>=0.1.19 in /home/b/bdata/beandata/eth/projects_eth/eth-sm04-ast/repo/venv/lib/python3.8/site-packages (from orange3) (0.1.26)\n",
      "Requirement already satisfied: pip>=9.0 in /home/b/bdata/beandata/eth/projects_eth/eth-sm04-ast/repo/venv/lib/python3.8/site-packages (from orange3) (22.0.4)\n",
      "Requirement already satisfied: PyQt5!=5.15.1,>=5.12 in /home/b/bdata/beandata/eth/projects_eth/eth-sm04-ast/repo/venv/lib/python3.8/site-packages (from orange3) (5.15.6)\n",
      "Requirement already satisfied: chardet>=3.0.2 in /home/b/bdata/beandata/eth/projects_eth/eth-sm04-ast/repo/venv/lib/python3.8/site-packages (from orange3) (4.0.0)\n",
      "Requirement already satisfied: PyQtWebEngine>=5.12 in /home/b/bdata/beandata/eth/projects_eth/eth-sm04-ast/repo/venv/lib/python3.8/site-packages (from orange3) (5.15.5)\n",
      "Requirement already satisfied: openTSNE>=0.4.3 in /home/b/bdata/beandata/eth/projects_eth/eth-sm04-ast/repo/venv/lib/python3.8/site-packages (from orange3) (0.6.2)\n",
      "Requirement already satisfied: keyrings.alt in /home/b/bdata/beandata/eth/projects_eth/eth-sm04-ast/repo/venv/lib/python3.8/site-packages (from orange3) (4.1.0)\n",
      "Requirement already satisfied: xlsxwriter in /home/b/bdata/beandata/eth/projects_eth/eth-sm04-ast/repo/venv/lib/python3.8/site-packages (from orange3) (3.0.3)\n",
      "Requirement already satisfied: python-louvain>=0.13 in /home/b/bdata/beandata/eth/projects_eth/eth-sm04-ast/repo/venv/lib/python3.8/site-packages (from orange3) (0.16)\n",
      "Requirement already satisfied: scikit-learn!=0.23.0,>=0.22.0 in /home/b/bdata/beandata/eth/projects_eth/eth-sm04-ast/repo/venv/lib/python3.8/site-packages (from orange3) (1.0.2)\n",
      "Requirement already satisfied: requests in /home/b/bdata/beandata/eth/projects_eth/eth-sm04-ast/repo/venv/lib/python3.8/site-packages (from orange3) (2.27.1)\n",
      "Requirement already satisfied: joblib>=0.9.4 in /home/b/bdata/beandata/eth/projects_eth/eth-sm04-ast/repo/venv/lib/python3.8/site-packages (from orange3) (1.1.0)\n",
      "Requirement already satisfied: serverfiles in /home/b/bdata/beandata/eth/projects_eth/eth-sm04-ast/repo/venv/lib/python3.8/site-packages (from orange3) (0.3.1)\n",
      "Requirement already satisfied: baycomp>=1.0.2 in /home/b/bdata/beandata/eth/projects_eth/eth-sm04-ast/repo/venv/lib/python3.8/site-packages (from orange3) (1.0.2)\n",
      "Requirement already satisfied: networkx in /home/b/bdata/beandata/eth/projects_eth/eth-sm04-ast/repo/venv/lib/python3.8/site-packages (from orange3) (2.8)\n",
      "Requirement already satisfied: xlrd>=0.9.2 in /home/b/bdata/beandata/eth/projects_eth/eth-sm04-ast/repo/venv/lib/python3.8/site-packages (from orange3) (2.0.1)\n",
      "Requirement already satisfied: httpx<0.17,>=0.14.0 in /home/b/bdata/beandata/eth/projects_eth/eth-sm04-ast/repo/venv/lib/python3.8/site-packages (from orange3) (0.16.1)\n",
      "Requirement already satisfied: httpcore==0.12.* in /home/b/bdata/beandata/eth/projects_eth/eth-sm04-ast/repo/venv/lib/python3.8/site-packages (from httpx<0.17,>=0.14.0->orange3) (0.12.3)\n",
      "Requirement already satisfied: rfc3986[idna2008]<2,>=1.3 in /home/b/bdata/beandata/eth/projects_eth/eth-sm04-ast/repo/venv/lib/python3.8/site-packages (from httpx<0.17,>=0.14.0->orange3) (1.5.0)\n",
      "Requirement already satisfied: certifi in /home/b/bdata/beandata/eth/projects_eth/eth-sm04-ast/repo/venv/lib/python3.8/site-packages (from httpx<0.17,>=0.14.0->orange3) (2021.10.8)\n",
      "Requirement already satisfied: sniffio in /home/b/bdata/beandata/eth/projects_eth/eth-sm04-ast/repo/venv/lib/python3.8/site-packages (from httpx<0.17,>=0.14.0->orange3) (1.2.0)\n",
      "Requirement already satisfied: h11==0.* in /home/b/bdata/beandata/eth/projects_eth/eth-sm04-ast/repo/venv/lib/python3.8/site-packages (from httpcore==0.12.*->httpx<0.17,>=0.14.0->orange3) (0.13.0)\n",
      "Requirement already satisfied: pillow>=6.2.0 in /home/b/bdata/beandata/eth/projects_eth/eth-sm04-ast/repo/venv/lib/python3.8/site-packages (from matplotlib->scikit_posthocs) (9.1.0)\n",
      "Requirement already satisfied: kiwisolver>=1.0.1 in /home/b/bdata/beandata/eth/projects_eth/eth-sm04-ast/repo/venv/lib/python3.8/site-packages (from matplotlib->scikit_posthocs) (1.4.2)\n",
      "Requirement already satisfied: pyparsing>=2.2.1 in /home/b/bdata/beandata/eth/projects_eth/eth-sm04-ast/repo/venv/lib/python3.8/site-packages (from matplotlib->scikit_posthocs) (3.0.8)\n",
      "Requirement already satisfied: cycler>=0.10 in /home/b/bdata/beandata/eth/projects_eth/eth-sm04-ast/repo/venv/lib/python3.8/site-packages (from matplotlib->scikit_posthocs) (0.11.0)\n",
      "Requirement already satisfied: packaging>=20.0 in /home/b/bdata/beandata/eth/projects_eth/eth-sm04-ast/repo/venv/lib/python3.8/site-packages (from matplotlib->scikit_posthocs) (21.3)\n",
      "Requirement already satisfied: fonttools>=4.22.0 in /home/b/bdata/beandata/eth/projects_eth/eth-sm04-ast/repo/venv/lib/python3.8/site-packages (from matplotlib->scikit_posthocs) (4.33.3)\n",
      "Requirement already satisfied: python-dateutil>=2.7 in /home/b/bdata/beandata/eth/projects_eth/eth-sm04-ast/repo/venv/lib/python3.8/site-packages (from matplotlib->scikit_posthocs) (2.8.2)\n",
      "Requirement already satisfied: cachecontrol[filecache] in /home/b/bdata/beandata/eth/projects_eth/eth-sm04-ast/repo/venv/lib/python3.8/site-packages (from orange-canvas-core<0.2a,>=0.1.19->orange3) (0.12.11)\n",
      "Requirement already satisfied: dictdiffer in /home/b/bdata/beandata/eth/projects_eth/eth-sm04-ast/repo/venv/lib/python3.8/site-packages (from orange-canvas-core<0.2a,>=0.1.19->orange3) (0.9.0)\n",
      "Requirement already satisfied: docutils in /home/b/bdata/beandata/eth/projects_eth/eth-sm04-ast/repo/venv/lib/python3.8/site-packages (from orange-canvas-core<0.2a,>=0.1.19->orange3) (0.18.1)\n",
      "Requirement already satisfied: commonmark>=0.8.1 in /home/b/bdata/beandata/eth/projects_eth/eth-sm04-ast/repo/venv/lib/python3.8/site-packages (from orange-canvas-core<0.2a,>=0.1.19->orange3) (0.9.1)\n",
      "Requirement already satisfied: qasync in /home/b/bdata/beandata/eth/projects_eth/eth-sm04-ast/repo/venv/lib/python3.8/site-packages (from orange-canvas-core<0.2a,>=0.1.19->orange3) (0.23.0)\n",
      "Requirement already satisfied: typing-extensions>=3.7.4.3 in /home/b/bdata/beandata/eth/projects_eth/eth-sm04-ast/repo/venv/lib/python3.8/site-packages (from orange-widget-base>=4.12.0->orange3) (4.2.0)\n",
      "Requirement already satisfied: pytz>=2017.3 in /home/b/bdata/beandata/eth/projects_eth/eth-sm04-ast/repo/venv/lib/python3.8/site-packages (from pandas>=0.20.0->scikit_posthocs) (2019.3)\n"
     ]
    },
    {
     "name": "stdout",
     "output_type": "stream",
     "text": [
      "Requirement already satisfied: PyQt5-sip<13,>=12.8 in /home/b/bdata/beandata/eth/projects_eth/eth-sm04-ast/repo/venv/lib/python3.8/site-packages (from PyQt5!=5.15.1,>=5.12->orange3) (12.10.1)\n",
      "Requirement already satisfied: PyQt5-Qt5>=5.15.2 in /home/b/bdata/beandata/eth/projects_eth/eth-sm04-ast/repo/venv/lib/python3.8/site-packages (from PyQt5!=5.15.1,>=5.12->orange3) (5.15.2)\n",
      "Requirement already satisfied: PyQtWebEngine-Qt5>=5.15.2 in /home/b/bdata/beandata/eth/projects_eth/eth-sm04-ast/repo/venv/lib/python3.8/site-packages (from PyQtWebEngine>=5.12->orange3) (5.15.2)\n",
      "Requirement already satisfied: threadpoolctl>=2.0.0 in /home/b/bdata/beandata/eth/projects_eth/eth-sm04-ast/repo/venv/lib/python3.8/site-packages (from scikit-learn!=0.23.0,>=0.22.0->orange3) (3.1.0)\n",
      "Requirement already satisfied: importlib-metadata>=3.6 in /home/b/bdata/beandata/eth/projects_eth/eth-sm04-ast/repo/venv/lib/python3.8/site-packages (from keyring->orange3) (4.11.3)\n",
      "Requirement already satisfied: jeepney>=0.4.2 in /home/b/bdata/beandata/eth/projects_eth/eth-sm04-ast/repo/venv/lib/python3.8/site-packages (from keyring->orange3) (0.8.0)\n",
      "Requirement already satisfied: SecretStorage>=3.2 in /home/b/bdata/beandata/eth/projects_eth/eth-sm04-ast/repo/venv/lib/python3.8/site-packages (from keyring->orange3) (3.3.2)\n",
      "Requirement already satisfied: et-xmlfile in /home/b/bdata/beandata/eth/projects_eth/eth-sm04-ast/repo/venv/lib/python3.8/site-packages (from openpyxl->orange3) (1.1.0)\n",
      "Requirement already satisfied: idna<4,>=2.5 in /home/b/bdata/beandata/eth/projects_eth/eth-sm04-ast/repo/venv/lib/python3.8/site-packages (from requests->orange3) (3.3)\n",
      "Requirement already satisfied: urllib3<1.27,>=1.21.1 in /home/b/bdata/beandata/eth/projects_eth/eth-sm04-ast/repo/venv/lib/python3.8/site-packages (from requests->orange3) (1.26.9)\n",
      "Requirement already satisfied: charset-normalizer~=2.0.0 in /home/b/bdata/beandata/eth/projects_eth/eth-sm04-ast/repo/venv/lib/python3.8/site-packages (from requests->orange3) (2.0.12)\n",
      "Requirement already satisfied: patsy>=0.5.2 in /home/b/bdata/beandata/eth/projects_eth/eth-sm04-ast/repo/venv/lib/python3.8/site-packages (from statsmodels->scikit_posthocs) (0.5.2)\n",
      "Requirement already satisfied: zipp>=0.5 in /home/b/bdata/beandata/eth/projects_eth/eth-sm04-ast/repo/venv/lib/python3.8/site-packages (from importlib-metadata>=3.6->keyring->orange3) (3.8.0)\n",
      "Requirement already satisfied: six in /home/b/bdata/beandata/eth/projects_eth/eth-sm04-ast/repo/venv/lib/python3.8/site-packages (from patsy>=0.5.2->statsmodels->scikit_posthocs) (1.16.0)\n",
      "Requirement already satisfied: cryptography>=2.0 in /home/b/bdata/beandata/eth/projects_eth/eth-sm04-ast/repo/venv/lib/python3.8/site-packages (from SecretStorage>=3.2->keyring->orange3) (37.0.0)\n",
      "Requirement already satisfied: msgpack>=0.5.2 in /home/b/bdata/beandata/eth/projects_eth/eth-sm04-ast/repo/venv/lib/python3.8/site-packages (from cachecontrol[filecache]->orange-canvas-core<0.2a,>=0.1.19->orange3) (1.0.3)\n",
      "Requirement already satisfied: lockfile>=0.9 in /home/b/bdata/beandata/eth/projects_eth/eth-sm04-ast/repo/venv/lib/python3.8/site-packages (from cachecontrol[filecache]->orange-canvas-core<0.2a,>=0.1.19->orange3) (0.12.2)\n",
      "Requirement already satisfied: cffi>=1.12 in /home/b/bdata/beandata/eth/projects_eth/eth-sm04-ast/repo/venv/lib/python3.8/site-packages (from cryptography>=2.0->SecretStorage>=3.2->keyring->orange3) (1.15.0)\n",
      "Requirement already satisfied: pycparser in /home/b/bdata/beandata/eth/projects_eth/eth-sm04-ast/repo/venv/lib/python3.8/site-packages (from cffi>=1.12->cryptography>=2.0->SecretStorage>=3.2->keyring->orange3) (2.21)\n"
     ]
    }
   ],
   "source": [
    "!pip install scikit_posthocs orange3\n",
    "#!git clone https://github.com/google/fuzzbench.git\n",
    "\n",
    "#import sys\n",
    "#sys.path.append(\"fuzzbench\")\n",
    "from fuzzbench_data import load_benchmarks\n",
    "\n",
    "from analysis import data_utils"
   ]
  },
  {
   "cell_type": "code",
   "execution_count": 3,
   "metadata": {
    "cellView": "both",
    "colab": {},
    "colab_type": "code",
    "id": "TTWgAJBcUC_k"
   },
   "outputs": [
    {
     "name": "stdout",
     "output_type": "stream",
     "text": [
      "/home/b/bdata/beandata/eth/projects_eth/eth-sm04-ast/repo/matt-AST/plots/fuzzbench_analysis/../../bean/benchmarks/report-data/exp-2022-04-22-00-58-08-libpng-1.2.56-4h-p52-thinkpad/data.csv.gz  not found\n"
     ]
    }
   ],
   "source": [
    "#@title Report data source\n",
    "#report_directory = \"2020-05-11\"  #@param [\"2020-05-11\", \"2020-04-21\", \"202-04-14\", \"2020-05-20-aflplusplus-2\"] {allow-input: true}\n",
    "#data_url = f\"https://www.fuzzbench.com/reports/{report_directory}/data.csv.gz\"\n",
    "df = load_benchmarks()"
   ]
  },
  {
   "cell_type": "code",
   "execution_count": 4,
   "metadata": {
    "colab": {},
    "colab_type": "code",
    "id": "rKrC323bUQb3"
   },
   "outputs": [],
   "source": [
    "exp_snapshot_df = data_utils.get_experiment_snapshots(df)\n",
    "exp_pivot_df = data_utils.experiment_pivot_table(exp_snapshot_df, data_utils.benchmark_rank_by_median)"
   ]
  },
  {
   "cell_type": "markdown",
   "metadata": {
    "colab_type": "text",
    "id": "UY73exieBJMa"
   },
   "source": [
    "# Median Edge Coverage "
   ]
  },
  {
   "cell_type": "code",
   "execution_count": 5,
   "metadata": {
    "colab": {
     "base_uri": "https://localhost:8080/",
     "height": 731
    },
    "colab_type": "code",
    "id": "l9DlehCMBM1W",
    "outputId": "f5c6ce3f-ee70-465c-8eb5-cfff9c8720b0"
   },
   "outputs": [
    {
     "data": {
      "text/html": [
       "<div>\n",
       "<style scoped>\n",
       "    .dataframe tbody tr th:only-of-type {\n",
       "        vertical-align: middle;\n",
       "    }\n",
       "\n",
       "    .dataframe tbody tr th {\n",
       "        vertical-align: top;\n",
       "    }\n",
       "\n",
       "    .dataframe thead th {\n",
       "        text-align: right;\n",
       "    }\n",
       "</style>\n",
       "<table border=\"1\" class=\"dataframe\">\n",
       "  <thead>\n",
       "    <tr style=\"text-align: right;\">\n",
       "      <th>fuzzer</th>\n",
       "      <th>aflplusplus_ast_o0</th>\n",
       "      <th>aflplusplus_ast_o1</th>\n",
       "      <th>aflplusplus_ast_o2</th>\n",
       "      <th>aflplusplus_ast_o3</th>\n",
       "    </tr>\n",
       "    <tr>\n",
       "      <th>benchmark</th>\n",
       "      <th></th>\n",
       "      <th></th>\n",
       "      <th></th>\n",
       "      <th></th>\n",
       "    </tr>\n",
       "  </thead>\n",
       "  <tbody>\n",
       "    <tr>\n",
       "      <th>bloaty_fuzz_target</th>\n",
       "      <td>5663</td>\n",
       "      <td>5969</td>\n",
       "      <td>5559</td>\n",
       "      <td>5535</td>\n",
       "    </tr>\n",
       "    <tr>\n",
       "      <th>freetype2-2017</th>\n",
       "      <td>19225</td>\n",
       "      <td>20855</td>\n",
       "      <td>20829</td>\n",
       "      <td>20049</td>\n",
       "    </tr>\n",
       "    <tr>\n",
       "      <th>lcms-2017-03-21</th>\n",
       "      <td>2701</td>\n",
       "      <td>2653</td>\n",
       "      <td>2976</td>\n",
       "      <td>2498</td>\n",
       "    </tr>\n",
       "    <tr>\n",
       "      <th>libpng-1.2.56</th>\n",
       "      <td>2085</td>\n",
       "      <td>2117</td>\n",
       "      <td>2072</td>\n",
       "      <td>2064</td>\n",
       "    </tr>\n",
       "    <tr>\n",
       "      <th>libxml2-v2.9.2</th>\n",
       "      <td>11896</td>\n",
       "      <td>12397</td>\n",
       "      <td>12157</td>\n",
       "      <td>11841</td>\n",
       "    </tr>\n",
       "    <tr>\n",
       "      <th>openthread-2019-12-23</th>\n",
       "      <td>5698</td>\n",
       "      <td>5816</td>\n",
       "      <td>5732</td>\n",
       "      <td>5828</td>\n",
       "    </tr>\n",
       "    <tr>\n",
       "      <th>sqlite3_ossfuzz</th>\n",
       "      <td>24644</td>\n",
       "      <td>24188</td>\n",
       "      <td>24762</td>\n",
       "      <td>24774</td>\n",
       "    </tr>\n",
       "    <tr>\n",
       "      <th>woff2-2016-05-06</th>\n",
       "      <td>1864</td>\n",
       "      <td>1887</td>\n",
       "      <td>1882</td>\n",
       "      <td>1877</td>\n",
       "    </tr>\n",
       "  </tbody>\n",
       "</table>\n",
       "</div>"
      ],
      "text/plain": [
       "fuzzer                 aflplusplus_ast_o0  aflplusplus_ast_o1  aflplusplus_ast_o2  aflplusplus_ast_o3\n",
       "benchmark                                                                                            \n",
       "bloaty_fuzz_target                   5663                5969                5559                5535\n",
       "freetype2-2017                      19225               20855               20829               20049\n",
       "lcms-2017-03-21                      2701                2653                2976                2498\n",
       "libpng-1.2.56                        2085                2117                2072                2064\n",
       "libxml2-v2.9.2                      11896               12397               12157               11841\n",
       "openthread-2019-12-23                5698                5816                5732                5828\n",
       "sqlite3_ossfuzz                     24644               24188               24762               24774\n",
       "woff2-2016-05-06                     1864                1887                1882                1877"
      ]
     },
     "execution_count": 5,
     "metadata": {},
     "output_type": "execute_result"
    }
   ],
   "source": [
    "exp_snapshot_df.pivot_table(index='benchmark', columns='fuzzer', values='edges_covered', aggfunc='median')"
   ]
  },
  {
   "cell_type": "markdown",
   "metadata": {
    "colab_type": "text",
    "id": "-vDxAu6rAX36"
   },
   "source": [
    "# Current Fuzzbench default report ranking\n",
    "- use the mean edges covered per benchmark\n",
    "- rank each fuzzer by their mean ranking for all benchmarks"
   ]
  },
  {
   "cell_type": "code",
   "execution_count": 6,
   "metadata": {
    "colab": {
     "base_uri": "https://localhost:8080/",
     "height": 255
    },
    "colab_type": "code",
    "id": "Q6tBoeQIUc-V",
    "outputId": "e488e222-dc84-41d4-d320-4e2691912a0e"
   },
   "outputs": [
    {
     "data": {
      "text/plain": [
       "fuzzer\n",
       "aflplusplus_ast_o1    1.75\n",
       "aflplusplus_ast_o2    1.75\n",
       "aflplusplus_ast_o0    3.25\n",
       "aflplusplus_ast_o3    3.25\n",
       "Name: average rank, dtype: float64"
      ]
     },
     "execution_count": 6,
     "metadata": {},
     "output_type": "execute_result"
    }
   ],
   "source": [
    "default_report_rank = data_utils.experiment_level_ranking(\n",
    "    exp_snapshot_df, \n",
    "    data_utils.benchmark_rank_by_mean, \n",
    "    data_utils.experiment_rank_by_average_rank)\n",
    "default_report_rank"
   ]
  },
  {
   "cell_type": "markdown",
   "metadata": {
    "colab_type": "text",
    "id": "IJvhkGUQASca"
   },
   "source": [
    "## Other ranking measures\n",
    "`exp_pivot_df` is the result of using the median coverage as a benchmark ranking algorithm\n",
    "- Number of firsts (best median coverage for a benchmark)\n",
    "- Percent coverage (median coverage / max coverage per benchmark)\n",
    "- Average rank (simple mean of benchmark ranking)\n",
    "- Statistical tests wins (only count cases where the coverage improvement was statistically significant (p_value < 0.05))"
   ]
  },
  {
   "cell_type": "code",
   "execution_count": 7,
   "metadata": {
    "colab": {
     "base_uri": "https://localhost:8080/",
     "height": 255
    },
    "colab_type": "code",
    "id": "3i4q40FKUgc8",
    "outputId": "ae90369a-47fe-4e83-9500-557f0d59e412"
   },
   "outputs": [
    {
     "data": {
      "text/plain": [
       "fuzzer\n",
       "aflplusplus_ast_o1    5.0\n",
       "aflplusplus_ast_o3    2.0\n",
       "aflplusplus_ast_o2    1.0\n",
       "aflplusplus_ast_o0    0.0\n",
       "Name: number of wins, dtype: float64"
      ]
     },
     "execution_count": 7,
     "metadata": {},
     "output_type": "execute_result"
    }
   ],
   "source": [
    "firsts_ranked = data_utils.experiment_rank_by_num_firsts(exp_pivot_df)\n",
    "firsts_ranked"
   ]
  },
  {
   "cell_type": "code",
   "execution_count": 8,
   "metadata": {
    "colab": {
     "base_uri": "https://localhost:8080/",
     "height": 255
    },
    "colab_type": "code",
    "id": "o8PIVfiXUjLl",
    "outputId": "686b3b1b-e0c5-40f8-a8a7-733619a75c57"
   },
   "outputs": [
    {
     "data": {
      "text/plain": [
       "fuzzer\n",
       "aflplusplus_ast_o2    98.373035\n",
       "aflplusplus_ast_o1    98.321902\n",
       "aflplusplus_ast_o0    96.036245\n",
       "aflplusplus_ast_o3    95.660506\n",
       "Name: average normalized score, dtype: float64"
      ]
     },
     "execution_count": 8,
     "metadata": {},
     "output_type": "execute_result"
    }
   ],
   "source": [
    "percent_coverage = data_utils.experiment_rank_by_average_normalized_score(exp_pivot_df)\n",
    "percent_coverage"
   ]
  },
  {
   "cell_type": "code",
   "execution_count": 9,
   "metadata": {
    "colab": {
     "base_uri": "https://localhost:8080/",
     "height": 255
    },
    "colab_type": "code",
    "id": "UopoysyHUmsr",
    "outputId": "47ba79e3-2a6b-47a3-a933-fe56fd8b0ba7"
   },
   "outputs": [
    {
     "data": {
      "text/plain": [
       "fuzzer\n",
       "aflplusplus_ast_o1    1.75\n",
       "aflplusplus_ast_o2    2.25\n",
       "aflplusplus_ast_o0    3.00\n",
       "aflplusplus_ast_o3    3.00\n",
       "Name: average rank, dtype: float64"
      ]
     },
     "execution_count": 9,
     "metadata": {},
     "output_type": "execute_result"
    }
   ],
   "source": [
    "average_rank = data_utils.experiment_rank_by_average_rank(exp_pivot_df)\n",
    "average_rank"
   ]
  },
  {
   "cell_type": "code",
   "execution_count": 10,
   "metadata": {
    "colab": {
     "base_uri": "https://localhost:8080/",
     "height": 255
    },
    "colab_type": "code",
    "id": "4BRwl9V2Up9M",
    "outputId": "cc9eb2fe-dc38-4d2c-ea53-dd7b0d3c29cb"
   },
   "outputs": [
    {
     "data": {
      "text/plain": [
       "fuzzer\n",
       "aflplusplus_ast_o1    1.9375\n",
       "aflplusplus_ast_o0    2.6875\n",
       "aflplusplus_ast_o2    2.6875\n",
       "aflplusplus_ast_o3    2.6875\n",
       "Name: average rank, dtype: float64"
      ]
     },
     "execution_count": 10,
     "metadata": {},
     "output_type": "execute_result"
    }
   ],
   "source": [
    "stats_wins = data_utils.experiment_level_ranking(\n",
    "    exp_snapshot_df,\n",
    "    data_utils.benchmark_rank_by_stat_test_wins,\n",
    "    data_utils.experiment_rank_by_average_rank\n",
    ")\n",
    "stats_wins"
   ]
  },
  {
   "cell_type": "markdown",
   "metadata": {
    "colab_type": "text",
    "id": "-uWcg_CAAiA_"
   },
   "source": [
    "# Ranking comparison chart"
   ]
  },
  {
   "cell_type": "code",
   "execution_count": 11,
   "metadata": {
    "colab": {
     "base_uri": "https://localhost:8080/",
     "height": 481
    },
    "colab_type": "code",
    "id": "dpIJvgZZUtQ3",
    "outputId": "2d782e27-e89f-4a1c-b331-dcf9a08fe61e"
   },
   "outputs": [
    {
     "name": "stderr",
     "output_type": "stream",
     "text": [
      "/tmp/ipykernel_405872/3032017555.py:14: UserWarning: Matplotlib is currently using module://matplotlib_inline.backend_inline, which is a non-GUI backend, so cannot show the figure.\n",
      "  fig.show()\n"
     ]
    },
    {
     "data": {
      "image/png": "[encoded data removed]",
      "text/plain": [
       "<Figure size 2160x504 with 4 Axes>"
      ]
     },
     "metadata": {},
     "output_type": "display_data"
    }
   ],
   "source": [
    "rankings = {\n",
    "    \"Default Ranking (mean coverage)\": default_report_rank,\n",
    "    \"Stats Wins (p_value wins)\": stats_wins,\n",
    "    \"% Coverage Ranking\": percent_coverage,\n",
    "    \"Average Rank (median coverage)\": average_rank\n",
    "}\n",
    "\n",
    "fig, axes = plt.subplots(1,len(rankings), figsize=(30,7))\n",
    "for i, (title, ranking_series) in enumerate(rankings.items()):\n",
    "  ax = sns.barplot(x=ranking_series.values, y=ranking_series.index, ax=axes[i])\n",
    "  ax.set_title(title)\n",
    "  ax.set_ylabel(\"\")\n",
    "fig.suptitle(\"Comparison of Ranking Methods\")\n",
    "fig.show()"
   ]
  },
  {
   "cell_type": "code",
   "execution_count": null,
   "metadata": {
    "colab": {},
    "colab_type": "code",
    "id": "2tZnK7qr5USJ"
   },
   "outputs": [],
   "source": []
  }
 ],
 "metadata": {
  "colab": {
   "collapsed_sections": [],
   "name": "Fuzzbench-2020-05-11-analysis.ipynb",
   "provenance": []
  },
  "kernelspec": {
   "display_name": "Python 3 (ipykernel)",
   "language": "python",
   "name": "python3"
  },
  "language_info": {
   "codemirror_mode": {
    "name": "ipython",
    "version": 3
   },
   "file_extension": ".py",
   "mimetype": "text/x-python",
   "name": "python",
   "nbconvert_exporter": "python",
   "pygments_lexer": "ipython3",
   "version": "3.8.13"
  }
 },
 "nbformat": 4,
 "nbformat_minor": 1
}